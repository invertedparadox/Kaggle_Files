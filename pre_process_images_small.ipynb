{
 "cells": [
  {
   "cell_type": "code",
   "execution_count": null,
   "metadata": {},
   "outputs": [],
   "source": [
    "import numpy as np\n",
    "import matplotlib.pyplot as plt\n",
    "from PPlib import jpg_to_face, filter_faces, jpg_to_lmdb"
   ]
  },
  {
   "cell_type": "code",
   "execution_count": null,
   "metadata": {},
   "outputs": [],
   "source": [
    "# define constants\n",
    "input_dir_sml = 'data/train_small/'\n",
    "face_data = \"valid_small.csv\"\n",
    "output_dir_sml = 'data/train_small_clean/'\n",
    "db_path = 'data/train_small_lmdb/train_small.lmdb'\n",
    "\n",
    "i_start = 0\n",
    "num_img = 6955\n",
    "q_mn = 0.98\n",
    "ar_mx = 1\n",
    "ar_mn = 0.5\n",
    "px_mn = 4096\n",
    "npx = 224"
   ]
  },
  {
   "cell_type": "code",
   "execution_count": null,
   "metadata": {},
   "outputs": [],
   "source": [
    "# find all images with exactly one face\n",
    "valid_id, valid_bbox_sml, valid_q_sml, valid_ar_sml, valid_px_sml, bad_id = jpg_to_face(input_dir_sml, i_start, num_img)"
   ]
  },
  {
   "cell_type": "code",
   "execution_count": null,
   "metadata": {},
   "outputs": [],
   "source": [
    "# convert to arrays\n",
    "num_valid = len(valid_id)\n",
    "\n",
    "valid_q = np.array(valid_q_sml).reshape(num_valid,1)\n",
    "valid_ar = np.array(valid_ar_sml).reshape(num_valid,1)\n",
    "valid_px = np.array(valid_px_sml).reshape(num_valid,1)\n",
    "valid_id = np.array(valid_id).reshape(num_valid,1)\n",
    "valid_bbox = np.array(valid_bbox_sml).reshape(num_valid,4)\n",
    "\n",
    "# save data\n",
    "valid_small = np.hstack((valid_id, valid_q, valid_ar, valid_px, valid_bbox))\n",
    "np.savetxt(face_data, valid_small, delimiter=\",\")\n",
    "\n",
    "# apply filters\n",
    "q_filt = valid_q > q_mn\n",
    "ar_filt_mx = valid_ar < ar_mx\n",
    "ar_filt_mn = valid_ar > ar_mn\n",
    "px_filt = valid_px > px_mn\n",
    "all_filt = (q_filt * ar_filt_mx * ar_filt_mn * px_filt)\n",
    "\n",
    "# determine baseline\n",
    "print(num_valid)\n",
    "\n",
    "# determine filtered\n",
    "print(sum(all_filt))\n",
    "\n",
    "# determine additional filtering\n",
    "plt.figure(1)\n",
    "plt.hist(valid_q_sml)\n",
    "print(sum(q_filt))\n",
    "# conclusion: q > 0.97\n",
    "\n",
    "plt.figure(2)\n",
    "plt.hist(valid_ar_sml)\n",
    "print(sum(ar_filt_mx))\n",
    "# conclusion: ar < 1\n",
    "\n",
    "plt.figure(3)\n",
    "plt.hist(valid_ar_sml)\n",
    "print(sum(ar_filt_mn))\n",
    "# conclusion: ar > 0.5\n",
    "\n",
    "plt.figure(4)\n",
    "plt.hist(valid_px_sml)\n",
    "print(sum(px_filt))\n",
    "# conclusion: px > 4096"
   ]
  },
  {
   "cell_type": "code",
   "execution_count": null,
   "metadata": {},
   "outputs": [],
   "source": [
    "# get data from spreadsheet\n",
    "valid_small = np.loadtxt(face_data, delimiter =',')\n",
    "\n",
    "valid_id = valid_small[:,0]\n",
    "valid_q = valid_small[:,1]\n",
    "valid_ar = valid_small[:,2]\n",
    "valid_px = valid_small[:,3]\n",
    "valid_bbox = valid_small[:,4:]\n",
    "\n",
    "num_valid = len(valid_id)\n",
    "\n",
    "# convert images to standard form\n",
    "flag = filter_faces(input_dir_sml, output_dir_sml, valid_id, valid_bbox, valid_q, valid_ar, valid_px, num_valid, ar_mx, ar_mn, q_mn, px_mn, npx)"
   ]
  },
  {
   "cell_type": "code",
   "execution_count": null,
   "metadata": {},
   "outputs": [],
   "source": [
    "# convert images into database\n",
    "jpg_to_lmdb(input_dir_sml, db_path)"
   ]
  }
 ],
 "metadata": {
  "kernelspec": {
   "display_name": "Python 3",
   "language": "python",
   "name": "python3"
  },
  "language_info": {
   "codemirror_mode": {
    "name": "ipython",
    "version": 3
   },
   "file_extension": ".py",
   "mimetype": "text/x-python",
   "name": "python",
   "nbconvert_exporter": "python",
   "pygments_lexer": "ipython3",
   "version": "3.10.11"
  }
 },
 "nbformat": 4,
 "nbformat_minor": 2
}
