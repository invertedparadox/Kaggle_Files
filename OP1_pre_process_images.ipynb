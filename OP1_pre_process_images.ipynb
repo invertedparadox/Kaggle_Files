{
 "cells": [
  {
   "cell_type": "code",
   "execution_count": 1,
   "metadata": {},
   "outputs": [
    {
     "name": "stderr",
     "output_type": "stream",
     "text": [
      "C:\\Users\\dgulewic\\AppData\\Local\\Packages\\PythonSoftwareFoundation.Python.3.10_qbz5n2kfra8p0\\LocalCache\\local-packages\\Python310\\site-packages\\tqdm\\auto.py:21: TqdmWarning: IProgress not found. Please update jupyter and ipywidgets. See https://ipywidgets.readthedocs.io/en/stable/user_install.html\n",
      "  from .autonotebook import tqdm as notebook_tqdm\n"
     ]
    }
   ],
   "source": [
    "import numpy as np\n",
    "import matplotlib.pyplot as plt\n",
    "from PPlib import jpg_to_face_train, filter_faces_train, jpg_to_face_test, filter_faces_test, compute_mu_sig"
   ]
  },
  {
   "cell_type": "code",
   "execution_count": null,
   "metadata": {},
   "outputs": [],
   "source": [
    "# define train constants\n",
    "input_dir_all = 'data/raw_train_all/'\n",
    "face_data = \"valid_train.csv\"\n",
    "face_data_filt = \"valid_train_filt.csv\"\n",
    "output_dir_all = 'data/clean_train_all/'\n",
    "\n",
    "i_start = 0\n",
    "num_img = 9540\n",
    "q_mn = 0.95\n",
    "ar_mx = 1\n",
    "ar_mn = 0.5\n",
    "px_mn = 4096\n",
    "npx = 224"
   ]
  },
  {
   "cell_type": "code",
   "execution_count": null,
   "metadata": {},
   "outputs": [],
   "source": [
    "# find all images with exactly one face\n",
    "valid_id, valid_bbox_all, valid_q_all, valid_ar_all, valid_px_all, bad_id = jpg_to_face_train(input_dir_all,i_start,num_img)\n",
    "\n",
    "# convert to arrays\n",
    "num_valid = len(valid_id)\n",
    "\n",
    "valid_q = np.array(valid_q_all).reshape(num_valid,1)\n",
    "valid_ar = np.array(valid_ar_all).reshape(num_valid,1)\n",
    "valid_px = np.array(valid_px_all).reshape(num_valid,1)\n",
    "valid_id = np.array(valid_id).reshape(num_valid,1)\n",
    "valid_bbox = np.array(valid_bbox_all).reshape(num_valid,4)\n",
    "\n",
    "# save data\n",
    "valid_train = np.hstack((valid_id, valid_q, valid_ar, valid_px, valid_bbox))\n",
    "np.savetxt(face_data, valid_train, delimiter=\",\")"
   ]
  },
  {
   "cell_type": "code",
   "execution_count": null,
   "metadata": {},
   "outputs": [],
   "source": [
    "# apply filters\n",
    "q_filt = valid_q > q_mn\n",
    "ar_filt_mx = valid_ar < ar_mx\n",
    "ar_filt_mn = valid_ar > ar_mn\n",
    "px_filt = valid_px > px_mn\n",
    "all_filt = (q_filt * ar_filt_mx * ar_filt_mn * px_filt)\n",
    "\n",
    "# determine baseline\n",
    "print(num_valid)\n",
    "\n",
    "# determine filtered\n",
    "print(sum(all_filt))\n",
    "\n",
    "# determine additional filtering\n",
    "plt.figure(1)\n",
    "plt.hist(valid_q_all)\n",
    "print(sum(q_filt))\n",
    "# conclusion: q > 0.97\n",
    "\n",
    "plt.figure(2)\n",
    "plt.hist(valid_ar_all)\n",
    "print(sum(ar_filt_mx))\n",
    "# conclusion: ar < 1\n",
    "\n",
    "plt.figure(3)\n",
    "plt.hist(valid_ar_all)\n",
    "print(sum(ar_filt_mn))\n",
    "# conclusion: ar > 0.5\n",
    "\n",
    "plt.figure(4)\n",
    "plt.hist(valid_px_all)\n",
    "print(sum(px_filt))\n",
    "# conclusion: px > 4096"
   ]
  },
  {
   "cell_type": "code",
   "execution_count": null,
   "metadata": {},
   "outputs": [],
   "source": [
    "# get data from spreadsheet\n",
    "valid_train = np.loadtxt(face_data, delimiter =',')\n",
    "\n",
    "valid_id = valid_train[:,0]\n",
    "valid_q = valid_train[:,1]\n",
    "valid_ar = valid_train[:,2]\n",
    "valid_px = valid_train[:,3]\n",
    "valid_bbox = valid_train[:,4:]\n",
    "\n",
    "num_valid = len(valid_id)\n",
    "\n",
    "# convert raw data into clean training data\n",
    "valid_train_filt = filter_faces_train(input_dir_all, output_dir_all, valid_id, valid_bbox, valid_q, valid_ar, valid_px, num_valid, ar_mx, ar_mn, q_mn, px_mn, npx)\n",
    "\n",
    "# save filtered data\n",
    "np.savetxt(face_data_filt, valid_train_filt, delimiter=\",\")"
   ]
  },
  {
   "cell_type": "code",
   "execution_count": null,
   "metadata": {},
   "outputs": [],
   "source": [
    "# define test constants\n",
    "input_dir_test = 'data/raw_test/'\n",
    "face_data_test = \"valid_test.csv\"\n",
    "output_dir_test = 'data/clean_test/'\n",
    "face_filt_test = 'test_filt.csv'\n",
    "\n",
    "i_start = 0\n",
    "num_img = 4977\n",
    "q_mn = 0.95\n",
    "npx = 224"
   ]
  },
  {
   "cell_type": "code",
   "execution_count": null,
   "metadata": {},
   "outputs": [],
   "source": [
    "# find all faces in images\n",
    "dup_number, valid_bbox_all, valid_q_all, valid_ar_all, valid_px_all = jpg_to_face_test(input_dir_test,i_start,num_img)\n",
    "\n",
    "# convert to arrays\n",
    "num_pics = len(dup_number)\n",
    "\n",
    "valid_q = np.array(valid_q_all).reshape(num_pics,1)\n",
    "valid_ar = np.array(valid_ar_all).reshape(num_pics,1)\n",
    "valid_px = np.array(valid_px_all).reshape(num_pics,1)\n",
    "dup_number = np.array(dup_number).reshape(num_pics,1)\n",
    "valid_bbox = np.array(valid_bbox_all).reshape(num_pics,4)\n",
    "\n",
    "# save data\n",
    "valid_test = np.hstack((dup_number, valid_q, valid_ar, valid_px, valid_bbox))\n",
    "np.savetxt(face_data_test, valid_test, delimiter=\",\")"
   ]
  },
  {
   "cell_type": "code",
   "execution_count": null,
   "metadata": {},
   "outputs": [],
   "source": [
    "# get data from spreadsheet\n",
    "valid_test = np.loadtxt(face_data_test, delimiter =',')\n",
    "\n",
    "dup_number = valid_test[:,0].astype(int)\n",
    "valid_q = valid_test[:,1]\n",
    "valid_ar = valid_test[:,2]\n",
    "valid_px = valid_test[:,3]\n",
    "valid_bbox = valid_test[:,4:]\n",
    "\n",
    "num_valid = len(dup_number)\n",
    "\n",
    "# convert raw data into clean training data\n",
    "dup_number_filt, q_filt, bbox_filt = filter_faces_test(input_dir_test, output_dir_test, dup_number, valid_bbox, valid_q, q_mn, npx)"
   ]
  },
  {
   "cell_type": "code",
   "execution_count": null,
   "metadata": {},
   "outputs": [],
   "source": [
    "num_img = len(dup_number_filt)\n",
    "\n",
    "dup_number_filt = np.array(dup_number_filt).reshape((num_img,1))\n",
    "q_filt = np.array(q_filt).reshape((num_img,1))\n",
    "bbox_filt = np.array(bbox_filt).reshape((num_img,4))\n",
    "\n",
    "# save data\n",
    "test_filt = dup_number_filt\n",
    "np.savetxt(face_filt_test, test_filt, delimiter=',')"
   ]
  },
  {
   "cell_type": "code",
   "execution_count": 2,
   "metadata": {},
   "outputs": [],
   "source": [
    "# compute mean and standard deviation of images\n",
    "num_img = 69540\n",
    "train_dir = 'data/clean_train_all/'\n",
    "face_filt_dir = \"valid_train_filt.csv\"\n",
    "\n",
    "mu, sig = compute_mu_sig(train_dir, face_filt_dir)"
   ]
  }
 ],
 "metadata": {
  "kernelspec": {
   "display_name": "Python 3",
   "language": "python",
   "name": "python3"
  },
  "language_info": {
   "codemirror_mode": {
    "name": "ipython",
    "version": 3
   },
   "file_extension": ".py",
   "mimetype": "text/x-python",
   "name": "python",
   "nbconvert_exporter": "python",
   "pygments_lexer": "ipython3",
   "version": "3.10.11"
  }
 },
 "nbformat": 4,
 "nbformat_minor": 2
}
