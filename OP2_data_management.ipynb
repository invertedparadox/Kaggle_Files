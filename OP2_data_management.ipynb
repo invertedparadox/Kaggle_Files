{
 "cells": [
  {
   "cell_type": "code",
   "execution_count": null,
   "metadata": {},
   "outputs": [],
   "source": [
    "from DMlib import get_categories_train, organize_files_train"
   ]
  },
  {
   "cell_type": "code",
   "execution_count": null,
   "metadata": {},
   "outputs": [],
   "source": [
    "face_filt_dir = \"valid_train_filt.csv\"\n",
    "category_file = \"data/category.csv\"\n",
    "train_file = \"data/train.csv\"\n",
    "NN_train_dir = \"data/NN_train_all/\"\n",
    "NN_validate_dir = \"data/NN_validate_all/\"\n",
    "clean_train_dir = \"data/clean_train_all/\"\n",
    "\n",
    "r_tv = 0.8"
   ]
  },
  {
   "cell_type": "code",
   "execution_count": null,
   "metadata": {},
   "outputs": [],
   "source": [
    "# get the categories of all the images that are valid images\n",
    "df_unique, dict_all_filt_arr = get_categories_train(face_filt_dir, category_file, train_file)"
   ]
  },
  {
   "cell_type": "code",
   "execution_count": null,
   "metadata": {},
   "outputs": [],
   "source": [
    "# move all valid images into either training or valiation\n",
    "organize_files_train(df_unique, dict_all_filt_arr, NN_train_dir, NN_validate_dir, clean_train_dir, r_tv)\n",
    "    "
   ]
  }
 ],
 "metadata": {
  "kernelspec": {
   "display_name": "Python 3",
   "language": "python",
   "name": "python3"
  },
  "language_info": {
   "codemirror_mode": {
    "name": "ipython",
    "version": 3
   },
   "file_extension": ".py",
   "mimetype": "text/x-python",
   "name": "python",
   "nbconvert_exporter": "python",
   "pygments_lexer": "ipython3",
   "version": "3.10.11"
  }
 },
 "nbformat": 4,
 "nbformat_minor": 2
}
