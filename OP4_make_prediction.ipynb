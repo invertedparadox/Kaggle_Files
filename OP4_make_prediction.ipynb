{
 "cells": [
  {
   "cell_type": "code",
   "execution_count": 33,
   "metadata": {},
   "outputs": [],
   "source": [
    "import torchvision\n",
    "import torch\n",
    "import math\n",
    "import os\n",
    "import numpy as np\n",
    "import pandas as pd\n",
    "from NNlib import create_dataloaders, get_initial_model, get_test_data, make_itemized_prediction, get_aggregate_prediction"
   ]
  },
  {
   "cell_type": "code",
   "execution_count": 34,
   "metadata": {},
   "outputs": [],
   "source": [
    "device = \"cuda\" if torch.cuda.is_available() else \"cpu\"\n",
    "num_classes = 100\n",
    "num_test_img = 6667\n",
    "batch_size = 32\n",
    "num_workers = os.cpu_count()\n",
    "\n",
    "NN_train_dir = \"data/NN_train_all/\"\n",
    "NN_validate_dir = \"data/NN_validate_all/\"\n",
    "NN_test_dir = \"data/NN_test_all/\"\n",
    "test_data_dir = \"test_filt.csv\"\n",
    "pred_file = 'test_V2.csv'\n",
    "model_file = 'model_4_3_V6'"
   ]
  },
  {
   "cell_type": "code",
   "execution_count": 35,
   "metadata": {},
   "outputs": [
    {
     "name": "stderr",
     "output_type": "stream",
     "text": [
      "C:\\Users\\dgulewic\\AppData\\Local\\Packages\\PythonSoftwareFoundation.Python.3.10_qbz5n2kfra8p0\\LocalCache\\local-packages\\Python310\\site-packages\\torchvision\\models\\_utils.py:208: UserWarning: The parameter 'pretrained' is deprecated since 0.13 and may be removed in the future, please use 'weights' instead.\n",
      "  warnings.warn(\n",
      "C:\\Users\\dgulewic\\AppData\\Local\\Packages\\PythonSoftwareFoundation.Python.3.10_qbz5n2kfra8p0\\LocalCache\\local-packages\\Python310\\site-packages\\torchvision\\models\\_utils.py:223: UserWarning: Arguments other than a weight enum or `None` for 'weights' are deprecated since 0.13 and may be removed in the future. The current behavior is equivalent to passing `weights=EfficientNet_B0_Weights.IMAGENET1K_V1`. You can also use `weights=EfficientNet_B0_Weights.DEFAULT` to get the most up-to-date weights.\n",
      "  warnings.warn(msg)\n"
     ]
    }
   ],
   "source": [
    "data_transform = torchvision.transforms.Compose([\n",
    "    torchvision.transforms.ToTensor()\n",
    "])\n",
    "\n",
    "model_0 = get_initial_model(num_classes, device)\n",
    "model_0.load_state_dict(torch.load(model_file))\n",
    "train_dataloader, test_dataloader, class_names = create_dataloaders(NN_train_dir,NN_validate_dir,data_transform,batch_size,num_workers)"
   ]
  },
  {
   "cell_type": "code",
   "execution_count": 36,
   "metadata": {},
   "outputs": [],
   "source": [
    "# import test data\n",
    "X_test = get_test_data(NN_test_dir, num_test_img, test_data_dir)"
   ]
  },
  {
   "cell_type": "code",
   "execution_count": 37,
   "metadata": {},
   "outputs": [],
   "source": [
    "# make prediction for each face\n",
    "test_preds, test_probs = make_itemized_prediction(model_0, X_test, num_test_img)"
   ]
  },
  {
   "cell_type": "code",
   "execution_count": 38,
   "metadata": {},
   "outputs": [],
   "source": [
    "# create dictionary\n",
    "indexs = [i for i in range(100)]\n",
    "prediction_conversion = dict(zip(indexs, class_names))"
   ]
  },
  {
   "cell_type": "code",
   "execution_count": 39,
   "metadata": {},
   "outputs": [],
   "source": [
    "# make prediction for each picture\n",
    "filt_pred, dup_number, j_max = get_aggregate_prediction(test_preds, test_probs, test_data_dir)"
   ]
  },
  {
   "cell_type": "code",
   "execution_count": 40,
   "metadata": {},
   "outputs": [],
   "source": [
    "# convert classes\n",
    "idxs = np.array(list(set(dup_number))).reshape((j_max,1))\n",
    "values = [prediction_conversion[key] for key in filt_pred]\n",
    "\n",
    "# save prediction\n",
    "prediction = pd.DataFrame(np.column_stack((idxs, values)),columns=['Id', 'Category'])\n",
    "prediction.to_csv(pred_file, index=False, header=True)"
   ]
  }
 ],
 "metadata": {
  "kernelspec": {
   "display_name": "Python 3",
   "language": "python",
   "name": "python3"
  },
  "language_info": {
   "codemirror_mode": {
    "name": "ipython",
    "version": 3
   },
   "file_extension": ".py",
   "mimetype": "text/x-python",
   "name": "python",
   "nbconvert_exporter": "python",
   "pygments_lexer": "ipython3",
   "version": "3.10.11"
  }
 },
 "nbformat": 4,
 "nbformat_minor": 2
}
