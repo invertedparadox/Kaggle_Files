{
 "cells": [
  {
   "cell_type": "code",
   "execution_count": 1,
   "metadata": {},
   "outputs": [],
   "source": [
    "import os\n",
    "import lmdb\n",
    "from PIL import Image\n",
    "import numpy as np\n",
    "import io"
   ]
  },
  {
   "cell_type": "code",
   "execution_count": 6,
   "metadata": {},
   "outputs": [],
   "source": [
    "def jpg_to_lmdb(input_dir, db_name):\n",
    "    env = lmdb.open(db_name, map_size=26106127360)\n",
    "    \n",
    "    with env.begin(write=True) as txn:\n",
    "        \n",
    "        # Iterate over RGB images in input directory\n",
    "        for filename in os.listdir(input_dir):\n",
    "            img = Image.open(os.path.join(input_dir, filename))\n",
    "            img_array = np.array(img)\n",
    "\n",
    "            # Serialize image data\n",
    "            img_bytes = io.BytesIO()\n",
    "            np.save(img_bytes, img_array)\n",
    "            img_bytes.seek(0)\n",
    "            img_data = img_bytes.read()\n",
    "\n",
    "            # Store image data in LMDB database\n",
    "            txn.put(filename.encode(), img_data)\n",
    "    env.close()\n",
    "\n",
    "def read_images_from_lmdb(db_path):\n",
    "    # Open LMDB environment in readonly mode\n",
    "    env = lmdb.open(db_path, readonly=True)\n",
    "\n",
    "    # Begin transaction\n",
    "    with env.begin() as txn:\n",
    "        cursor = txn.cursor()\n",
    "\n",
    "        # Iterate over key-value pairs in LMDB database\n",
    "        for key, value in cursor:\n",
    "            # Convert serialized image data back to numpy array\n",
    "            img_bytes_io = io.BytesIO(value)\n",
    "            img_array = np.load(img_bytes_io)\n",
    "\n",
    "            # Convert numpy array to PIL Image\n",
    "            img = Image.fromarray(img_array)\n",
    "\n",
    "            # Display or process the image as needed\n",
    "            # For example, you can display the image:\n",
    "            img.show()\n",
    "\n",
    "    # Close LMDB environment\n",
    "    env.close()\n",
    "    \n",
    "def compute_database_size(db_path):\n",
    "    # Open LMDB environment in readonly mode\n",
    "    env = lmdb.open(db_path, readonly=True)\n",
    "\n",
    "    total_size = 0\n",
    "\n",
    "    # Begin transaction\n",
    "    with env.begin() as txn:\n",
    "        cursor = txn.cursor()\n",
    "\n",
    "        # Iterate over key-value pairs in LMDB database\n",
    "        for key, value in cursor:\n",
    "            # Compute the size of the value (data)\n",
    "            value_size = len(value)\n",
    "\n",
    "            # Accumulate the total size\n",
    "            total_size += value_size\n",
    "\n",
    "    # Close LMDB environment\n",
    "    env.close()\n",
    "\n",
    "    return total_size"
   ]
  },
  {
   "cell_type": "code",
   "execution_count": null,
   "metadata": {},
   "outputs": [],
   "source": [
    "input_dir = 'data/train_small'\n",
    "db_path = 'data/train_small_lmdb/train_small.lmdb'\n",
    "\n",
    "jpgs_to_lmdb(input_dir, db_path)\n",
    "read_images_from_lmdb(db_path)\n",
    "total_size = compute_database_size(db_path)\n",
    "\n",
    "print(f\"Total space used by the database: {total_size} bytes\")"
   ]
  }
 ],
 "metadata": {
  "kernelspec": {
   "display_name": "Python 3",
   "language": "python",
   "name": "python3"
  },
  "language_info": {
   "codemirror_mode": {
    "name": "ipython",
    "version": 3
   },
   "file_extension": ".py",
   "mimetype": "text/x-python",
   "name": "python",
   "nbconvert_exporter": "python",
   "pygments_lexer": "ipython3",
   "version": "3.10.11"
  }
 },
 "nbformat": 4,
 "nbformat_minor": 2
}
