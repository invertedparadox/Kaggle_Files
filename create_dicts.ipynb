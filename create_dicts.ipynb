{
 "cells": [
  {
   "cell_type": "code",
   "execution_count": 8,
   "metadata": {},
   "outputs": [],
   "source": [
    "import torch\n",
    "import pandas as pd"
   ]
  },
  {
   "cell_type": "code",
   "execution_count": 14,
   "metadata": {},
   "outputs": [],
   "source": [
    "## get data from files and create dictionary for each\n",
    "# key-value files\n",
    "unique_key_value = \"data/category.csv\"\n",
    "train_min_key_value = \"data/train_small.csv\"\n",
    "train_all_key_value = \"data/train.csv\"\n",
    "\n",
    "# get output data\n",
    "df_unique = pd.read_csv(unique_key_value)\n",
    "df_min = pd.read_csv(train_min_key_value)\n",
    "df_all = pd.read_csv(train_all_key_value)\n",
    "\n",
    "# create dictionary for each\n",
    "dict_unique = dict(zip(df_unique[\"Key\"],df_unique[\"Value\"]))\n",
    "dict_min = dict(zip(df_min[\"Key\"],df_min[\"Value\"]))\n",
    "dict_all = dict(zip(df_all[\"Key\"],df_all[\"Value\"]))\n"
   ]
  },
  {
   "cell_type": "code",
   "execution_count": 41,
   "metadata": {},
   "outputs": [
    {
     "name": "stdout",
     "output_type": "stream",
     "text": [
      "[87, 47, 6955]\n",
      "[721, 525, 69540]\n"
     ]
    }
   ],
   "source": [
    "## create dictionary where each key is a name, and each value is an array\n",
    "# for min data\n",
    "dict_min_arr = {}\n",
    "dict_min_num = {}\n",
    "for target_name in df_unique[\"Value\"]:\n",
    "    target_cols = df_min[df_min[\"Value\"] == target_name]\n",
    "    dict_min_arr[target_name] = target_cols[\"Key\"]\n",
    "    dict_min_num[target_name] = target_cols[\"Key\"].count()\n",
    "\n",
    "# for all data\n",
    "dict_all_arr = {}\n",
    "dict_all_num = {}\n",
    "for target_name in df_unique[\"Value\"]:\n",
    "    target_cols = df_all[df_all[\"Value\"] == target_name]\n",
    "    dict_all_arr[target_name] = target_cols[\"Key\"]\n",
    "    dict_all_num[target_name] = target_cols[\"Key\"].count()\n",
    "    \n",
    "# create pandas \n",
    "column_names = ['Name', 'Count']\n",
    "df_min_num = pd.DataFrame({\"Name\": dict_min_num.keys(), \"Count\": dict_min_num.values()})\n",
    "df_all_num = pd.DataFrame({\"Name\": dict_all_num.keys(), \"Count\": dict_all_num.values()})\n",
    "\n",
    "# get some statitics about the data\n",
    "print([df_min_num[\"Count\"].max(), df_min_num[\"Count\"].min(), df_min_num[\"Count\"].sum()])\n",
    "print([df_all_num[\"Count\"].max(), df_all_num[\"Count\"].min(), df_all_num[\"Count\"].sum()])"
   ]
  }
 ],
 "metadata": {
  "kernelspec": {
   "display_name": "Python 3",
   "language": "python",
   "name": "python3"
  },
  "language_info": {
   "codemirror_mode": {
    "name": "ipython",
    "version": 3
   },
   "file_extension": ".py",
   "mimetype": "text/x-python",
   "name": "python",
   "nbconvert_exporter": "python",
   "pygments_lexer": "ipython3",
   "version": "3.10.11"
  }
 },
 "nbformat": 4,
 "nbformat_minor": 2
}
